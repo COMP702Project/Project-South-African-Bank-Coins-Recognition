{
 "cells": [
  {
   "cell_type": "markdown",
   "id": "014b5482",
   "metadata": {},
   "source": [
    "# Libraries\n",
    "\n",
    "\n",
    "\n",
    "- <b>Augmentor</b>: \n",
    "     - This import statement imports the Augmentor library, which is a powerful image augmentation library in Python. \n",
    "     - Augmentor provides various operations for augmenting and transforming images in a pipeline.\n",
    "\n",
    "\n",
    "\n",
    "\n",
    "\n",
    "- <b>cv2</b>: \n",
    "    - This import statement imports the OpenCV library, which is a popular computer vision library. \n",
    "    - OpenCV provides a wide range of functions and algorithms for image processing, computer vision tasks, and video processing.\n",
    "\n",
    "\n",
    "\n",
    "\n",
    "\n",
    "- <b>numpy</b> : \n",
    "    - This import statement imports the NumPy library, which is a fundamental package for scientific computing in Python. \n",
    "    - NumPy provides support for large, multi-dimensional arrays and matrices, along with a collection of mathematical functions to operate on these arrays efficiently.\n",
    "\n",
    "\n",
    "\n",
    "\n",
    "\n",
    "- <b>Operation from Augmentor.Operations</b>: \n",
    "    - This import statement specifically imports the Operation class from the Operations module of the Augmentor library. \n",
    "    - The Operation class is a base class for creating custom image augmentation operations in Augmentor.\n",
    "\n",
    "\n",
    "\n",
    "\n",
    "\n",
    "- <b>Image, ImageEnhance, ImageFilterfrom PIL</b> : \n",
    "    - These import statements import specific classes from the PIL (Python Imaging Library) module. \n",
    "    - PIL provides a collection of classes and functions for opening, manipulating, and saving many different image file formats. \n",
    "        - In this case, Image is the main class for representing and manipulating images, ImageEnhance provides methods for enhancing image properties like brightness, contrast, and sharpness, and ImageFilter provides a collection of predefined image filters such as blur and sharpen.\n",
    "        \n",
    "        \n",
    "\n",
    "Check if the specific Python packages (Augmentor, cv2, numpy, PIL) and their corresponding modules (PIL.ImageEnhance, PIL.ImageFilter) are installed. If any of the packages or modules are not found, use pip to install them. The code ensures that the required dependencies are available in the Python environment before proceeding with the rest of the program."
   ]
  },
  {
   "cell_type": "code",
   "execution_count": 1,
   "id": "31390478",
   "metadata": {},
   "outputs": [],
   "source": [
    "import importlib\n",
    "\n",
    "# Check if Augmentor is installed, install it if not\n",
    "if importlib.util.find_spec(\"Augmentor\") is None:\n",
    "    print(\"Augmentor package not found. Installing...\")\n",
    "    !pip install Augmentor\n",
    "\n",
    "# Check if OpenCV is installed, install it if not\n",
    "if importlib.util.find_spec(\"cv2\") is None:\n",
    "    print(\"OpenCV package not found. Installing...\")\n",
    "    !pip install opencv-python\n",
    "\n",
    "# Check if NumPy is installed, install it if not\n",
    "if importlib.util.find_spec(\"numpy\") is None:\n",
    "    print(\"NumPy package not found. Installing...\")\n",
    "    !pip install numpy\n",
    "\n",
    "# Check if PIL is installed, install it if not\n",
    "if importlib.util.find_spec(\"PIL\") is None:\n",
    "    print(\"PIL package not found. Installing...\")\n",
    "    !pip install Pillow\n",
    "\n",
    "# Check if specific PIL modules are installed, install them if not\n",
    "if importlib.util.find_spec(\"PIL.ImageEnhance\") is None:\n",
    "    print(\"PIL module ImageEnhance not found. Installing...\")\n",
    "    !pip install Pillow\n",
    "\n",
    "if importlib.util.find_spec(\"PIL.ImageFilter\") is None:\n",
    "    print(\"PIL module ImageFilter not found. Installing...\")\n",
    "    !pip install Pillow\n",
    "    \n",
    "import Augmentor\n",
    "import cv2\n",
    "import numpy as np \n",
    "\n",
    "from Augmentor.Operations import Operation\n",
    "from IPython.display import display\n",
    "from PIL import Image,ImageEnhance,ImageFilter"
   ]
  },
  {
   "cell_type": "markdown",
   "id": "cb202155",
   "metadata": {},
   "source": [
    "# Creating Augmentor Pipelines for Image Augmentation\n",
    "\n",
    "The Augmentor library provides functionality for image augmentation and transformation in Python. The Pipeline class is used to create a sequence of operations that are applied to a set of images. By defining a pipeline, you can systematically apply various operations to manipulate and augment images.\n",
    "\n",
    "The line p = Augmentor.Pipeline(\"Coins\") creates an instance of the Pipeline class with the source directory set to \"Coins\", representing the location of the original images.\n",
    "\n",
    "Operations such as rotation, resizing, flipping, and more can be added to the pipeline using methods provided by the Pipeline class. These operations define how the images in the pipeline will be transformed.\n",
    "\n",
    "Once the operations are added, the sample() method is called on the pipeline to apply the defined operations and generate augmented images. The augmented images are saved in a new directory created by the Augmentor library."
   ]
  },
  {
   "cell_type": "code",
   "execution_count": 2,
   "id": "20cb32e2",
   "metadata": {},
   "outputs": [
    {
     "name": "stdout",
     "output_type": "stream",
     "text": [
      "Initialised with 17 image(s) found.\n",
      "Output directory set to Coins/head_\\output.Initialised with 8 image(s) found.\n",
      "Output directory set to Coins/tail_\\output."
     ]
    }
   ],
   "source": [
    "pline_head = Augmentor.Pipeline(\"Coins/head_\")\n",
    "pline_tail = Augmentor.Pipeline(\"Coins/tail_\")"
   ]
  },
  {
   "cell_type": "markdown",
   "id": "8c6f3698",
   "metadata": {},
   "source": [
    "# Custom Image Sharpening\n",
    "\n",
    "- The following code defines a class called SharpenImage that inherits from the Operation class. \n",
    "- It allows for sharpening images by a specified level. \n",
    "- The perform_operation method applies the sharpening operation to a list of images using the ImageEnhance module from the PIL library. \n",
    "- The sharpened images are stored in a list and returned as the result."
   ]
  },
  {
   "cell_type": "code",
   "execution_count": 3,
   "id": "92c47b6f",
   "metadata": {},
   "outputs": [],
   "source": [
    "from augmentor_operations import sharpen_image"
   ]
  },
  {
   "cell_type": "markdown",
   "id": "eb13b6a3",
   "metadata": {},
   "source": [
    "# Custom Noise Removal\n",
    "\n",
    "- The code defines a class called NoiseRemoval that inherits from the Operation class. \n",
    "- Provides a way to remove noise from a list of images by applying different types of filters (median, Gaussian, or mean). \n",
    "- The perform_operation method iterates over the images and applies the specified filter to each image. The resulting denoised images are stored in a list and returned."
   ]
  },
  {
   "cell_type": "code",
   "execution_count": 4,
   "id": "46d9c1d0",
   "metadata": {},
   "outputs": [],
   "source": [
    "from augmentor_operations import noise_removal"
   ]
  },
  {
   "cell_type": "markdown",
   "id": "e5d915a5",
   "metadata": {},
   "source": [
    " # Custom Background Removal\n",
    " \n",
    " - The code defines a class called BackgroundRemoval that inherits from the Operation class. \n",
    " - Provides a method called perform_operation to remove the background from a list of images using the GrabCut algorithm. \n",
    " - The algorithm segments the foreground and background based on a rectangle encompassing the entire image. It then creates a binary mask from the segmentation and applies it to the original image to remove the background. \n",
    " - The resulting images are converted back to PIL format and returned as a list."
   ]
  },
  {
   "cell_type": "code",
   "execution_count": 5,
   "id": "5a9c46a0",
   "metadata": {},
   "outputs": [],
   "source": [
    "from augmentor_operations import background_removal"
   ]
  },
  {
   "cell_type": "markdown",
   "id": "d1a73a67",
   "metadata": {},
   "source": [
    "# Otsu Threshold"
   ]
  },
  {
   "cell_type": "code",
   "execution_count": 6,
   "id": "55396dd0",
   "metadata": {},
   "outputs": [],
   "source": [
    "from augmentor_operations import otsu_threshold"
   ]
  },
  {
   "cell_type": "markdown",
   "id": "cb4535c2",
   "metadata": {},
   "source": [
    "# Edge Enhancement"
   ]
  },
  {
   "cell_type": "code",
   "execution_count": 7,
   "id": "8534c976",
   "metadata": {},
   "outputs": [],
   "source": [
    "from augmentor_operations import edge_enhancement"
   ]
  },
  {
   "cell_type": "markdown",
   "id": "aa52a137",
   "metadata": {},
   "source": [
    "# Edge Detection"
   ]
  },
  {
   "cell_type": "code",
   "execution_count": 8,
   "id": "d1a9e29c",
   "metadata": {},
   "outputs": [],
   "source": [
    "from augmentor_operations import edge_detection"
   ]
  },
  {
   "cell_type": "markdown",
   "id": "02437cec",
   "metadata": {},
   "source": [
    "# Pipeline\n",
    "\n",
    "- <b>greyscale(1)</b>: \n",
    "    - Converts the images in the pipeline to grayscale.\n",
    "    \n",
    "    \n",
    "    \n",
    "\n",
    "- <b>histogram_equalisation()</b>: \n",
    "    - Applies histogram equalization to enhance the image contrast.\n",
    "    \n",
    "    \n",
    "    \n",
    "\n",
    "- <b>add_operation(NoiseRemoval(noise_probability=1, filter_type=type))</b>: \n",
    "    - Adds a custom operation of noise removal using a filter.\n",
    "    \n",
    "    \n",
    "    \n",
    "\n",
    "- <b>add_operation(SharpenImage(probability=1, level=n))</b>: \n",
    "    - Adds a custom operation to sharpen the images.\n",
    "    \n",
    "    \n",
    "    \n",
    "\n",
    "- <b>histogram_equalisation()</b>: \n",
    "    - Applies histogram equalization again after the sharpening operation.\n",
    "    \n",
    "    \n",
    "    \n",
    "\n",
    "\n",
    "- <b>add_operation(BackgroundRemoval(probability=1))</b>: \n",
    "    - Adds a custom operation to remove the background from the images.\n",
    "    \n",
    "    \n",
    "    \n",
    "    \n",
    "\n",
    "- <b>rotate_without_crop(0.80,max_left_rotation=359,max_right_rotation=359)</b>: \n",
    "    - Rotates the images randomly without cropping them, with a probability of 0.80 and a maximum rotation angle of 359 degrees in both directions.\n",
    "    \n",
    "    \n",
    "    \n",
    "\n",
    "Overall, the code demonstrates a pipeline of image processing operations, including grayscale conversion, histogram equalization, noise removal, image sharpening, background removal, and random rotation."
   ]
  },
  {
   "cell_type": "code",
   "execution_count": 9,
   "id": "efe66a20",
   "metadata": {},
   "outputs": [],
   "source": [
    "def add_pipline(p,\n",
    "                noise_removal_filter,\n",
    "                edge_enhancement_method,\n",
    "                edge_detection_threshold,\n",
    "                denoising_method\n",
    "               ):\n",
    "    #p.greyscale(1)\n",
    "    p.histogram_equalisation()\n",
    "    p.add_operation(otsu_threshold.Apply(probability=1))\n",
    "    p.add_operation(noise_removal.Apply(noise_probability=1, filter_type=noise_removal_filter))\n",
    "    p.add_operation(edge_enhancement.Apply(probability=1,method = edge_enhancement_method)) # canny, sobel\n",
    "    #p.add_operation(noise_removal.Apply(noise_probability=1, filter_type=\"laplacian\")) \n",
    "    #p.add_operation(sharpen_image.Apply(probability=1, level=10))\n",
    "    p.add_operation(edge_detection.Apply(probability=1,threshold=edge_detection_threshold,denoising_method=denoising_method)) \n",
    "    p.black_and_white(1)\n",
    "    p.rotate_without_crop(0.80,max_left_rotation=359,max_right_rotation=359)"
   ]
  },
  {
   "cell_type": "markdown",
   "id": "a10272a3",
   "metadata": {},
   "source": [
    "# Perform augmentations"
   ]
  },
  {
   "cell_type": "code",
   "execution_count": 10,
   "id": "92e3497a",
   "metadata": {},
   "outputs": [],
   "source": [
    "noise_removal_filter     = 'laplacian' # median,gaussian,mean,laplacian\n",
    "edge_enhancement_method  = 'sobel'     # canny, sobel\n",
    "edge_detection_threshold = 5000\n",
    "denoising_method         = 'fourier' # wavelet, nlmeans, fourier\n",
    "\n",
    "add_pipline(pline_head,\n",
    "            noise_removal_filter,\n",
    "            edge_enhancement_method,\n",
    "            edge_detection_threshold,\n",
    "            denoising_method\n",
    "           )\n",
    "add_pipline(pline_tail,\n",
    "            noise_removal_filter,\n",
    "            edge_enhancement_method,\n",
    "            edge_detection_threshold,\n",
    "            denoising_method\n",
    "           )"
   ]
  },
  {
   "cell_type": "markdown",
   "id": "02970a5d",
   "metadata": {},
   "source": [
    "The <b>status()</b> code is used to check the current status and progress of an Augmentor pipeline. It provides information such as the number of images in the pipeline, the current position within the pipeline, and the percentage completion. It helps monitor the pipeline's execution and ensure that it is progressing as expected."
   ]
  },
  {
   "cell_type": "code",
   "execution_count": 11,
   "id": "fad83695",
   "metadata": {},
   "outputs": [
    {
     "name": "stdout",
     "output_type": "stream",
     "text": [
      "Operations: 7\n",
      "\t0: HistogramEqualisation (probability=1.0 )\n",
      "\t1: Apply (probability=1 )\n",
      "\t2: Apply (probability=1 filter_type=laplacian )\n",
      "\t3: Apply (probability=1 method=sobel )\n",
      "\t4: Apply (probability=1 threshold=5000 denoising_method=fourier )\n",
      "\t5: BlackAndWhite (probability=1 threshold=128 )\n",
      "\t6: RotateStandard (probability=0.8 max_left_rotation=-359 max_right_rotation=359 expand=False fillcolor=None )\n",
      "Images: 17\n",
      "Classes: 6\n",
      "\tClass index: 0 Class label: C10 \n",
      "\tClass index: 1 Class label: C20 \n",
      "\tClass index: 2 Class label: C50 \n",
      "\tClass index: 3 Class label: R1 \n",
      "\tClass index: 4 Class label: R2 \n",
      "\tClass index: 5 Class label: R5 \n",
      "Dimensions: 7\n",
      "\tWidth: 200 Height: 201\n",
      "\tWidth: 224 Height: 225\n",
      "\tWidth: 225 Height: 225\n",
      "\tWidth: 413 Height: 354\n",
      "\tWidth: 200 Height: 200\n",
      "\tWidth: 225 Height: 224\n",
      "\tWidth: 354 Height: 413\n",
      "Formats: 2\n",
      "\t JPEG\n",
      "\t PNG\n",
      "\n",
      "You can remove operations using the appropriate index and the remove_operation(index) function.\n",
      "\n",
      "Operations: 7\n",
      "\t0: HistogramEqualisation (probability=1.0 )\n",
      "\t1: Apply (probability=1 )\n",
      "\t2: Apply (probability=1 filter_type=laplacian )\n",
      "\t3: Apply (probability=1 method=sobel )\n",
      "\t4: Apply (probability=1 threshold=5000 denoising_method=fourier )\n",
      "\t5: BlackAndWhite (probability=1 threshold=128 )\n",
      "\t6: RotateStandard (probability=0.8 max_left_rotation=-359 max_right_rotation=359 expand=False fillcolor=None )\n",
      "Images: 8\n",
      "Classes: 6\n",
      "\tClass index: 0 Class label: C10 \n",
      "\tClass index: 1 Class label: C20 \n",
      "\tClass index: 2 Class label: C50 \n",
      "\tClass index: 3 Class label: R1 \n",
      "\tClass index: 4 Class label: R2 \n",
      "\tClass index: 5 Class label: R5 \n",
      "Dimensions: 2\n",
      "\tWidth: 354 Height: 413\n",
      "\tWidth: 225 Height: 225\n",
      "Formats: 2\n",
      "\t JPEG\n",
      "\t PNG\n",
      "\n",
      "You can remove operations using the appropriate index and the remove_operation(index) function.\n"
     ]
    }
   ],
   "source": [
    "pline_head.status()\n",
    "print()\n",
    "pline_tail.status()"
   ]
  },
  {
   "cell_type": "markdown",
   "id": "c8114998",
   "metadata": {},
   "source": [
    "- p.sample(n) is used to generate a specified number of augmented images from the Augmentor pipeline p. In this case, p.sample(100) generates 100 augmented images based on the operations and transformations defined in the pipeline.\n",
    "\n",
    "\n",
    "\n",
    "\n",
    "- p.process() is used to apply the defined operations and transformations in the pipeline to the images. It processes the images and applies the specified augmentations, such as rotations, flips, or filters. This step is necessary before saving or exporting the augmented images.\n",
    "\n",
    "\n",
    "\n",
    "\n",
    "- By executing p.sample(100) followed by p.process(), you generate 100 augmented images and then apply the defined operations to those images. The resulting processed images can be further manipulated or saved as desired."
   ]
  },
  {
   "cell_type": "code",
   "execution_count": 12,
   "id": "101ce2ac",
   "metadata": {},
   "outputs": [
    {
     "name": "stderr",
     "output_type": "stream",
     "text": [
      "Processing <PIL.Image.Image image mode=1 size=225x225 at 0x1964BF97280>: 100%|█| 100/100 [00:01<00:00, 75.92 Samples/s]\n",
      "Processing <PIL.Image.Image image mode=1 size=354x413 at 0x1964BF97280>: 100%|███| 17/17 [00:00<00:00, 68.97 Samples/s]\n",
      "Processing <PIL.Image.Image image mode=1 size=354x413 at 0x1964BF96BC0>: 100%|█| 100/100 [00:01<00:00, 52.27 Samples/s]\n",
      "Processing <PIL.Image.Image image mode=1 size=354x413 at 0x1964BE8F0A0>: 100%|█████| 8/8 [00:00<00:00, 41.51 Samples/s]\n"
     ]
    }
   ],
   "source": [
    "pline_head.sample(100)\n",
    "pline_head.process()\n",
    "\n",
    "pline_tail.sample(100)\n",
    "pline_tail.process()"
   ]
  },
  {
   "cell_type": "markdown",
   "id": "507719cf",
   "metadata": {},
   "source": [
    "The augmented images should be in a folder called <b>output</b>"
   ]
  }
 ],
 "metadata": {
  "kernelspec": {
   "display_name": "Python 3 (ipykernel)",
   "language": "python",
   "name": "python3"
  },
  "language_info": {
   "codemirror_mode": {
    "name": "ipython",
    "version": 3
   },
   "file_extension": ".py",
   "mimetype": "text/x-python",
   "name": "python",
   "nbconvert_exporter": "python",
   "pygments_lexer": "ipython3",
   "version": "3.10.7"
  }
 },
 "nbformat": 4,
 "nbformat_minor": 5
}
